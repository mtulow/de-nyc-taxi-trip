{
 "cells": [
  {
   "cell_type": "markdown",
   "id": "76ecd423-b8f8-40fb-be50-32e0ac077fe7",
   "metadata": {},
   "source": [
    "# <center> Ingest NYC Taxi Trips Data into PostgreSQL </center>\n",
    "---"
   ]
  },
  {
   "cell_type": "code",
   "execution_count": 1,
   "id": "bf59ae3a-3be0-4052-9ea5-71a27e2902ce",
   "metadata": {},
   "outputs": [],
   "source": [
    "import os\n",
    "import getpass\n",
    "import itertools\n",
    "import pandas as pd\n",
    "import pyarrow.parquet as pq\n",
    "from prefect import flow, task\n",
    "from sqlalchemy import create_engine"
   ]
  },
  {
   "cell_type": "markdown",
   "id": "64d191a3-d201-42e1-9c68-965f9851202c",
   "metadata": {},
   "source": [
    "#### Database Credentials"
   ]
  },
  {
   "cell_type": "code",
   "execution_count": 2,
   "id": "e8d0c8b0-f2ce-46b3-a56a-d2a2861a5f46",
   "metadata": {},
   "outputs": [],
   "source": [
    "def __connect_db():\n",
    "    username = getpass.getpass('Enter PostgreSQL Username: ')\n",
    "    password = getpass.getpass('Enter PostgreSQL Password: ')\n",
    "    host    = os.getenv('PG_HOST')\n",
    "    port    = os.getenv('PG_PORT')\n",
    "    dbname  = os.getenv('PG_DATABASE','ny_taxi')\n",
    "    print()\n",
    "    return create_engine(f'postgresql://{username}:{password}@{host}:{port}/{dbname}').url"
   ]
  },
  {
   "cell_type": "code",
   "execution_count": 3,
   "id": "54669063-7e0d-42d2-912b-35379d901e07",
   "metadata": {},
   "outputs": [],
   "source": [
    "def connect_to_database(uri=None):\n",
    "    return create_engine(uri or __connect_db())"
   ]
  },
  {
   "cell_type": "markdown",
   "id": "16a49452-22f6-47b3-b4d5-8a1fa8bda899",
   "metadata": {},
   "source": [
    "#### Utilities"
   ]
  },
  {
   "cell_type": "code",
   "execution_count": 4,
   "id": "33a360ac-4333-4ed5-aa5f-99ead3203eeb",
   "metadata": {},
   "outputs": [],
   "source": [
    "def get_s3_url(service: str, year: int, month: int):\n",
    "    return f's3://nyc-tlc/trip data/{service}_tripdata_{year}-{month:02d}.parquet'"
   ]
  },
  {
   "cell_type": "code",
   "execution_count": 5,
   "id": "18360585-4f09-4cb1-95f2-3a02adfed2fd",
   "metadata": {},
   "outputs": [],
   "source": [
    "def get_tablename(service: str, year: int, month: int):\n",
    "    return f'{service}_taxi_trips_{year}_{month:02d}'"
   ]
  },
  {
   "cell_type": "code",
   "execution_count": 6,
   "id": "00620631-9ab7-4d0a-a689-41b6fca02353",
   "metadata": {},
   "outputs": [],
   "source": [
    "def get_local_filepath(service: str, year: int, month: int):\n",
    "    datadir = f'data/{service}/{year}/{month:02d}'\n",
    "    os.makedirs(datadir, exist_ok=True)\n",
    "    return f'{datadir}/{service}_tripdata_{year}-{month:02d}.parquet'"
   ]
  },
  {
   "cell_type": "code",
   "execution_count": 7,
   "id": "ff21723b-daeb-4011-83c3-998ed6a622ec",
   "metadata": {},
   "outputs": [],
   "source": [
    "def get_datetime_columns(service: str):\n",
    "    if service == 'yellow':\n",
    "        return ['tpep_pickup_datetime','tpep_dropoff_datetime']\n",
    "    elif service == 'green':\n",
    "        return ['tpep_pickup_datetime','tpep_dropoff_datetime']\n",
    "    else:\n",
    "        return []"
   ]
  },
  {
   "cell_type": "code",
   "execution_count": 8,
   "id": "de0be2df-7523-429c-97c1-96bf87a549bb",
   "metadata": {},
   "outputs": [],
   "source": [
    "def get_column_mapper(service: str)-> dict:\n",
    "    if service == 'yellow':\n",
    "        mapper = dict([\n",
    "                ('VendorID','vendorid'),('RatecodeID','ratecodeid'),\n",
    "                ('PULocationID','pickup_locationid'),('DOLocationID','dropoff_locationid'),\n",
    "                ('tpep_pickup_datetime','pickup_datetime'),('tpep_dropoff_datetime','dropoff_datetime'),\n",
    "        ])\n",
    "    elif service == 'green':\n",
    "        mapper = dict([\n",
    "                ('VendorID','vendorid'),('RatecodeID','ratecodeid'),\n",
    "                ('PULocationID','pickup_locationid'),('DOLocationID','dropoff_locationid'),\n",
    "                ('lpep_pickup_datetime','pickup_datetime'),('lpep_dropoff_datetime','dropoff_datetime'),\n",
    "        ])\n",
    "    else:\n",
    "        mapper = dict()\n",
    "        \n",
    "    return mapper"
   ]
  },
  {
   "cell_type": "markdown",
   "id": "9dd784a3-79dd-4e7b-b51f-c4efba7b82b3",
   "metadata": {},
   "source": [
    "## Extract Data"
   ]
  },
  {
   "cell_type": "code",
   "execution_count": 9,
   "id": "df657355-2777-4942-87e7-0070f134e6a1",
   "metadata": {},
   "outputs": [],
   "source": [
    "# @task\n",
    "def fetch_data(dataset_url: str, filepath: str, service: str):\n",
    "    print('Extracting Data...')\n",
    "    print('Data File:', dataset_url, '\\n')\n",
    "    df = pd.read_parquet(dataset_url, engine='fastparquet')\n",
    "    df.info()\n",
    "    print('\\nDone!')\n",
    "    return df"
   ]
  },
  {
   "cell_type": "markdown",
   "id": "f4966396-23a1-4ddb-9d44-baad87913e52",
   "metadata": {},
   "source": [
    "## Transform Data"
   ]
  },
  {
   "cell_type": "code",
   "execution_count": 10,
   "id": "0d886302-7dfa-4e8d-beb0-5ad458636703",
   "metadata": {},
   "outputs": [],
   "source": [
    "# @task()\n",
    "def clean_dataframe(df: pd.DataFrame, service: str):\n",
    "    return df.rename_axis(columns=get_column_mapper(service)).copy()"
   ]
  },
  {
   "cell_type": "code",
   "execution_count": 11,
   "id": "844bd382-817d-4105-a549-6ea7a9314fa9",
   "metadata": {},
   "outputs": [],
   "source": [
    "# @task()\n",
    "def write_to_local(df: pd.DataFrame, filepath: str):\n",
    "    df.to_parquet(filepath, compression='snappy')\n",
    "    return filepath"
   ]
  },
  {
   "cell_type": "markdown",
   "id": "fe4a54f6-3159-4419-a915-401b100dd2b4",
   "metadata": {},
   "source": [
    "## Load Data"
   ]
  },
  {
   "cell_type": "code",
   "execution_count": 12,
   "id": "6981535d-c2cc-4333-a2bf-57659ebc1772",
   "metadata": {},
   "outputs": [],
   "source": [
    "# @task\n",
    "def upload_to_database(filename: str, tablename: str, uri):\n",
    "    print('Loading Data into Database...')\n",
    "    print('Data Table:', tablename)\n",
    "    engine = connect_to_database(uri)\n",
    "    df = pd.read_parquet(filename, engine='fastparquet')\n",
    "    df.to_sql(tablename, con=engine, schema='staging', if_exists='append',\n",
    "              chunksize=100_000, method='multi')\n",
    "    os.remove(filename)\n",
    "    engine.dispose()\n",
    "    print('Done!')"
   ]
  },
  {
   "cell_type": "markdown",
   "id": "5aac0acf-a07b-4a76-a4a5-719097e4a980",
   "metadata": {},
   "source": [
    "## ELT Pipeline"
   ]
  },
  {
   "cell_type": "code",
   "execution_count": null,
   "id": "0461a98b-6a32-485c-bc25-f11833cac36b",
   "metadata": {},
   "outputs": [],
   "source": [
    "# @flow\n",
    "def web_to_postgres(service: str, year: int, month: int, uri):\n",
    "    url = get_s3_url(service, year, month)\n",
    "    filepath = get_local_filepath(service, year, month)\n",
    "    tablename = get_tablename(service, year, month)\n",
    "    # extract\n",
    "    df_raw = fetch_data(url, filepath, service)\n",
    "\n",
    "    # transform\n",
    "    df_clean = clean_dataframe(df_raw, service)\n",
    "    local_path = write_to_local(df_clean, filepath)\n",
    "    \n",
    "    print()\n",
    "    df_clean.info()\n",
    "    print()\n",
    "    \n",
    "    # load\n",
    "    upload_to_database(local_path, tablename, uri)"
   ]
  },
  {
   "cell_type": "markdown",
   "id": "96084859-223c-4bcb-9cd0-6c120fb5daea",
   "metadata": {},
   "source": [
    "## Run ELT Pipeline"
   ]
  },
  {
   "cell_type": "code",
   "execution_count": 14,
   "id": "4ed3f74f-a17f-4581-b205-c66d818c56e4",
   "metadata": {},
   "outputs": [],
   "source": [
    "# @flow\n",
    "def elt_pipeline(start_year: int, end_year: int, services: list):\n",
    "    uri = __connect_db()\n",
    "    for year, month, service in itertools.product(range(start_year,end_year+1),range(1,12+1),services):\n",
    "        web_to_postgres(service, year, month, uri)\n",
    "    shutil.rmtree('data')"
   ]
  },
  {
   "cell_type": "code",
   "execution_count": null,
   "id": "5a1fc530-602a-439d-969a-eac7201854d4",
   "metadata": {},
   "outputs": [
    {
     "name": "stdout",
     "output_type": "stream",
     "text": [
      "Enter PostgreSQL Username:  ········\n",
      "Enter PostgreSQL Password:  ········\n"
     ]
    },
    {
     "name": "stdout",
     "output_type": "stream",
     "text": [
      "\n",
      "Extracting Data...\n",
      "Data File: s3://nyc-tlc/trip data/yellow_tripdata_2019-01.parquet \n",
      "\n",
      "<class 'pandas.core.frame.DataFrame'>\n",
      "RangeIndex: 7696617 entries, 0 to 7696616\n",
      "Data columns (total 19 columns):\n",
      " #   Column                 Dtype         \n",
      "---  ------                 -----         \n",
      " 0   VendorID               int64         \n",
      " 1   tpep_pickup_datetime   datetime64[ns]\n",
      " 2   tpep_dropoff_datetime  datetime64[ns]\n",
      " 3   passenger_count        float64       \n",
      " 4   trip_distance          float64       \n",
      " 5   RatecodeID             float64       \n",
      " 6   store_and_fwd_flag     object        \n",
      " 7   PULocationID           int64         \n",
      " 8   DOLocationID           int64         \n",
      " 9   payment_type           int64         \n",
      " 10  fare_amount            float64       \n",
      " 11  extra                  float64       \n",
      " 12  mta_tax                float64       \n",
      " 13  tip_amount             float64       \n",
      " 14  tolls_amount           float64       \n",
      " 15  improvement_surcharge  float64       \n",
      " 16  total_amount           float64       \n",
      " 17  congestion_surcharge   float64       \n",
      " 18  airport_fee            float64       \n",
      "dtypes: datetime64[ns](2), float64(12), int64(4), object(1)\n",
      "memory usage: 1.1+ GB\n",
      "\n",
      "Done!\n",
      "\n",
      "<class 'pandas.core.frame.DataFrame'>\n",
      "RangeIndex: 7696617 entries, 0 to 7696616\n",
      "Data columns (total 19 columns):\n",
      " #   Column                 Dtype         \n",
      "---  ------                 -----         \n",
      " 0   VendorID               int64         \n",
      " 1   tpep_pickup_datetime   datetime64[ns]\n",
      " 2   tpep_dropoff_datetime  datetime64[ns]\n",
      " 3   passenger_count        float64       \n",
      " 4   trip_distance          float64       \n",
      " 5   RatecodeID             float64       \n",
      " 6   store_and_fwd_flag     object        \n",
      " 7   PULocationID           int64         \n",
      " 8   DOLocationID           int64         \n",
      " 9   payment_type           int64         \n",
      " 10  fare_amount            float64       \n",
      " 11  extra                  float64       \n",
      " 12  mta_tax                float64       \n",
      " 13  tip_amount             float64       \n",
      " 14  tolls_amount           float64       \n",
      " 15  improvement_surcharge  float64       \n",
      " 16  total_amount           float64       \n",
      " 17  congestion_surcharge   float64       \n",
      " 18  airport_fee            float64       \n",
      "dtypes: datetime64[ns](2), float64(12), int64(4), object(1)\n",
      "memory usage: 1.1+ GB\n",
      "\n",
      "Loading Data into Database...\n",
      "Data Table: yellow_taxi_trips_2019_01\n"
     ]
    }
   ],
   "source": [
    "elt_pipeline(2019, 2021, ['yellow','green'])"
   ]
  },
  {
   "cell_type": "code",
   "execution_count": null,
   "id": "8674e595-1b0f-498e-b6e1-3cf0fa3c0b62",
   "metadata": {},
   "outputs": [],
   "source": [
    "elt_pipeline(2019, 2019, ['fhv'])"
   ]
  }
 ],
 "metadata": {
  "kernelspec": {
   "display_name": "snowpark",
   "language": "python",
   "name": "python3"
  },
  "language_info": {
   "codemirror_mode": {
    "name": "ipython",
    "version": 3
   },
   "file_extension": ".py",
   "mimetype": "text/x-python",
   "name": "python",
   "nbconvert_exporter": "python",
   "pygments_lexer": "ipython3",
   "version": "3.8.15 (default, Nov 24 2022, 09:04:07) \n[Clang 14.0.6 ]"
  },
  "vscode": {
   "interpreter": {
    "hash": "ad03c02ea475e9dc7bdf622c81fa7838e3439389737614b199fda35cbe93b997"
   }
  }
 },
 "nbformat": 4,
 "nbformat_minor": 5
}
