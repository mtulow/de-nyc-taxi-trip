{
 "cells": [
  {
   "cell_type": "code",
   "execution_count": 6,
   "id": "cc59addf",
   "metadata": {},
   "outputs": [],
   "source": [
    "from snowflake.snowpark.session import Session\n",
    "import snowflake.snowpark.functions as F\n",
    "import snowflake.snowpark.types as T\n",
    "from snowflake.snowpark.window import Window\n",
    "# import preprocessing # https://github.com/Snowflake-Labs/snowpark-python-demos/tree/main/sp4py_utilities\n",
    "\n",
    "import sys\n",
    "import getpass\n",
    "import urllib.request\n",
    "import pandas as pd\n",
    "import matplotlib.pyplot as plt\n",
    "import numpy as np"
   ]
  },
  {
   "cell_type": "markdown",
   "id": "7d8eb90c",
   "metadata": {},
   "source": [
    "## Create Snowpark Session\n",
    "---"
   ]
  },
  {
   "cell_type": "code",
   "execution_count": 2,
   "id": "0f68a219",
   "metadata": {},
   "outputs": [
    {
     "name": "stdout",
     "output_type": "stream",
     "text": [
      "Enter snowflake account [ORGNAME-ACCOUNTNAME]: ········\n"
     ]
    }
   ],
   "source": [
    "# wd03530.us-central1.gcp\n",
    "accountname = getpass.getpass('Enter snowflake account [ORGNAME-ACCOUNTNAME]: ')"
   ]
  },
  {
   "cell_type": "code",
   "execution_count": 3,
   "id": "695adea0",
   "metadata": {},
   "outputs": [
    {
     "name": "stdout",
     "output_type": "stream",
     "text": [
      "Enter snowflake username: ········\n"
     ]
    }
   ],
   "source": [
    "username = getpass.getpass('Enter snowflake username: ')    # SNOWFLAKE-USERNAME"
   ]
  },
  {
   "cell_type": "code",
   "execution_count": 4,
   "id": "8dc935d3",
   "metadata": {},
   "outputs": [
    {
     "name": "stdout",
     "output_type": "stream",
     "text": [
      "Enter snowflake username: ········\n"
     ]
    }
   ],
   "source": [
    "password = getpass.getpass('Enter snowflake username: ')    # SNOWFLAKE-PASSWORD"
   ]
  },
  {
   "cell_type": "code",
   "execution_count": 5,
   "id": "36c2fbe3",
   "metadata": {},
   "outputs": [],
   "source": [
    "connection_parameters = {\n",
    "    \"account\": accountname,\n",
    "    \"user\": username,\n",
    "    \"password\": password,\n",
    "    \"role\": \"ACCOUNTADMIN\",\n",
    "    \"database\": \"nyc_taxi\",\n",
    "    \"schema\": \"PUBLIC\",\n",
    "    \"warehouse\": \"INGESTION_WH\"\n",
    "}\n",
    "\n",
    "session = Session.builder.configs(connection_parameters).create()"
   ]
  },
  {
   "cell_type": "code",
   "execution_count": null,
   "id": "ec17429d",
   "metadata": {},
   "outputs": [],
   "source": []
  },
  {
   "cell_type": "code",
   "execution_count": null,
   "id": "5bc57d96",
   "metadata": {},
   "outputs": [],
   "source": []
  },
  {
   "cell_type": "code",
   "execution_count": null,
   "id": "d09fbe5a",
   "metadata": {},
   "outputs": [],
   "source": []
  },
  {
   "cell_type": "code",
   "execution_count": null,
   "id": "1ef39267",
   "metadata": {},
   "outputs": [],
   "source": []
  },
  {
   "cell_type": "code",
   "execution_count": null,
   "id": "3ed6e44c",
   "metadata": {},
   "outputs": [],
   "source": []
  },
  {
   "cell_type": "code",
   "execution_count": null,
   "id": "30c3d43e",
   "metadata": {},
   "outputs": [],
   "source": []
  },
  {
   "cell_type": "code",
   "execution_count": null,
   "id": "1fee7864",
   "metadata": {},
   "outputs": [],
   "source": []
  },
  {
   "cell_type": "code",
   "execution_count": null,
   "id": "2c27b751",
   "metadata": {},
   "outputs": [],
   "source": []
  },
  {
   "cell_type": "code",
   "execution_count": null,
   "id": "19569208",
   "metadata": {},
   "outputs": [],
   "source": []
  },
  {
   "cell_type": "code",
   "execution_count": null,
   "id": "d70264d2",
   "metadata": {},
   "outputs": [],
   "source": []
  },
  {
   "cell_type": "code",
   "execution_count": null,
   "id": "97ebb582",
   "metadata": {},
   "outputs": [],
   "source": []
  }
 ],
 "metadata": {
  "kernelspec": {
   "display_name": "Python 3 (ipykernel)",
   "language": "python",
   "name": "python3"
  },
  "language_info": {
   "codemirror_mode": {
    "name": "ipython",
    "version": 3
   },
   "file_extension": ".py",
   "mimetype": "text/x-python",
   "name": "python",
   "nbconvert_exporter": "python",
   "pygments_lexer": "ipython3",
   "version": "3.8.13"
  }
 },
 "nbformat": 4,
 "nbformat_minor": 5
}
