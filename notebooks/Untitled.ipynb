{
 "cells": [
  {
   "cell_type": "code",
   "execution_count": 4,
   "id": "15cb6360-4a8a-4cce-93fd-7ba1d259987f",
   "metadata": {},
   "outputs": [],
   "source": [
    "import getpass\n",
    "\n",
    "from snowflake.snowpark import Session\n",
    "import snowflake.snowpark.types as T\n",
    "import snowflake.snowpark.functions as F"
   ]
  },
  {
   "cell_type": "code",
   "execution_count": 6,
   "id": "0c88b284-c285-4b15-9ebc-ba6e925d4037",
   "metadata": {},
   "outputs": [
    {
     "name": "stdin",
     "output_type": "stream",
     "text": [
      "Enter ACCOUNTADMIN password:   ········\n"
     ]
    }
   ],
   "source": [
    "pwd = getpass.getpass('Enter ACCOUNTADMIN password:  ')"
   ]
  },
  {
   "cell_type": "code",
   "execution_count": 12,
   "id": "e403474a-9eac-40a9-86a5-a9b81026cf7a",
   "metadata": {},
   "outputs": [],
   "source": [
    "params = dict(\n",
    "    account='wd03530.us-central1.gcp',\n",
    "    user='mtulow',\n",
    "    password=pwd,\n",
    "    database='nyc_taxi',\n",
    "    schema='public',\n",
    "    warehouse='compute_wh',\n",
    ")\n",
    "\n",
    "session = Session.builder.configs(params).create()"
   ]
  },
  {
   "cell_type": "code",
   "execution_count": 14,
   "id": "55fc3068-1751-4f69-bd5a-79ffbe7b35e7",
   "metadata": {},
   "outputs": [
    {
     "name": "stdout",
     "output_type": "stream",
     "text": [
      "------------------------------------------------------------------------------------------------------------------------------------\n",
      "|\"name\"                                             |\"size\"     |\"md5\"                             |\"last_modified\"                |\n",
      "------------------------------------------------------------------------------------------------------------------------------------\n",
      "|stage/yellow/2019/yellow_tripdata_2019-01.parquet  |110439648  |780f13de404692b0af539742fb667ee3  |Sat, 24 Dec 2022 07:48:53 GMT  |\n",
      "|stage/yellow/2019/yellow_tripdata_2019-02.parquet  |103356032  |7264036b9a3a72a2a1508ce774de7f69  |Sat, 24 Dec 2022 07:49:04 GMT  |\n",
      "|stage/yellow/2019/yellow_tripdata_2019-03.parquet  |116017376  |b69b3b7cf4ec4578161ff3e525e263d6  |Sat, 24 Dec 2022 07:49:11 GMT  |\n",
      "|stage/yellow/2019/yellow_tripdata_2019-04.parquet  |110139152  |dec8bcf0f0b1a2399c7f74b1cfb2fae7  |Sat, 24 Dec 2022 07:49:18 GMT  |\n",
      "|stage/yellow/2019/yellow_tripdata_2019-05.parquet  |111478944  |b4fe6bf690bc7fff3a46892ec4fc9308  |Sat, 24 Dec 2022 07:49:25 GMT  |\n",
      "|stage/yellow/2019/yellow_tripdata_2019-06.parquet  |102903360  |916e170fd7ee1174088f4e8ca3f7fd96  |Sat, 24 Dec 2022 07:49:31 GMT  |\n",
      "|stage/yellow/2019/yellow_tripdata_2019-07.parquet  |93877344   |8857207babc6324730ee43adca8a83c6  |Sat, 24 Dec 2022 07:49:37 GMT  |\n",
      "|stage/yellow/2019/yellow_tripdata_2019-08.parquet  |89999680   |a50458cbc9075dc8f1666302d6f55cbc  |Sat, 24 Dec 2022 07:49:43 GMT  |\n",
      "|stage/yellow/2019/yellow_tripdata_2019-09.parquet  |97110336   |d7921959dc86f793cf937bafef974981  |Sat, 24 Dec 2022 07:49:49 GMT  |\n",
      "|stage/yellow/2019/yellow_tripdata_2019-10.parquet  |106293376  |fc7b1b971ae503ac0d5ca5a4fae1aad0  |Sat, 24 Dec 2022 07:49:56 GMT  |\n",
      "------------------------------------------------------------------------------------------------------------------------------------\n",
      "\n",
      "---------------------------------------------------------------------------------------------------------------------------------\n",
      "|\"name\"                                           |\"size\"    |\"md5\"                             |\"last_modified\"                |\n",
      "---------------------------------------------------------------------------------------------------------------------------------\n",
      "|stage/green/2019/green_tripdata_2019-01.parquet  |11071984  |fe94bc2b77ef5059f2a23daa529c4cb4  |Sat, 24 Dec 2022 07:48:54 GMT  |\n",
      "|stage/green/2019/green_tripdata_2019-02.parquet  |10316800  |a76a487797340009c3e76c52276a5525  |Sat, 24 Dec 2022 07:49:06 GMT  |\n",
      "|stage/green/2019/green_tripdata_2019-03.parquet  |10760880  |f3670dfa430a63edea36e2b563330db3  |Sat, 24 Dec 2022 07:49:13 GMT  |\n",
      "|stage/green/2019/green_tripdata_2019-04.parquet  |9413008   |a0e2606f40365c7e897870e5ff3a875f  |Sat, 24 Dec 2022 07:49:20 GMT  |\n",
      "|stage/green/2019/green_tripdata_2019-05.parquet  |9050688   |2e351b56927b57d23ba9238442e1ca52  |Sat, 24 Dec 2022 07:49:26 GMT  |\n",
      "|stage/green/2019/green_tripdata_2019-06.parquet  |8548672   |6f0b560d92ac21e8c7aa5a53fdde6834  |Sat, 24 Dec 2022 07:49:32 GMT  |\n",
      "|stage/green/2019/green_tripdata_2019-07.parquet  |7921136   |2d919df60ab549f29b8fbb24c145a7c9  |Sat, 24 Dec 2022 07:49:38 GMT  |\n",
      "|stage/green/2019/green_tripdata_2019-08.parquet  |7554864   |446eaacb4cb1c786bdda54d48e04ad5b  |Sat, 24 Dec 2022 07:49:45 GMT  |\n",
      "|stage/green/2019/green_tripdata_2019-09.parquet  |7692016   |a40b27205273ede948d493634025f2f5  |Sat, 24 Dec 2022 07:49:51 GMT  |\n",
      "|stage/green/2019/green_tripdata_2019-10.parquet  |7864976   |9acbca2c9460610347a2031971ac73c4  |Sat, 24 Dec 2022 07:49:58 GMT  |\n",
      "---------------------------------------------------------------------------------------------------------------------------------\n",
      "\n",
      "------------------------------------------------------------------------------------------------------------------------------\n",
      "|\"name\"                                       |\"size\"     |\"md5\"                             |\"last_modified\"                |\n",
      "------------------------------------------------------------------------------------------------------------------------------\n",
      "|stage/fhv/2019/fhv_tripdata_2019-01.parquet  |210707440  |d3a8fdaa17a09223bebc708829c7587d  |Sat, 24 Dec 2022 07:49:01 GMT  |\n",
      "|stage/fhv/2019/fhv_tripdata_2019-02.parquet  |15282640   |a6a82f54d55a91f075ad3ccf23642968  |Sat, 24 Dec 2022 07:49:07 GMT  |\n",
      "|stage/fhv/2019/fhv_tripdata_2019-03.parquet  |13576304   |9d228d0d973d82c1d6d4438442900205  |Sat, 24 Dec 2022 07:49:15 GMT  |\n",
      "|stage/fhv/2019/fhv_tripdata_2019-04.parquet  |17074512   |b6152ee35cdf9316c20591ceaace60e7  |Sat, 24 Dec 2022 07:49:21 GMT  |\n",
      "|stage/fhv/2019/fhv_tripdata_2019-05.parquet  |18204688   |f5d33a6a99a06ce73a0afa1a451af938  |Sat, 24 Dec 2022 07:49:28 GMT  |\n",
      "|stage/fhv/2019/fhv_tripdata_2019-06.parquet  |17769408   |c438c5a0762cbefb1319a62e87963512  |Sat, 24 Dec 2022 07:49:34 GMT  |\n",
      "|stage/fhv/2019/fhv_tripdata_2019-07.parquet  |17313824   |e0e2380f5ee8bac0eb829d6cb297893c  |Sat, 24 Dec 2022 07:49:40 GMT  |\n",
      "|stage/fhv/2019/fhv_tripdata_2019-08.parquet  |17309072   |23c497b4b4d0de330c82fcab6b5a7369  |Sat, 24 Dec 2022 07:49:46 GMT  |\n",
      "|stage/fhv/2019/fhv_tripdata_2019-09.parquet  |12256016   |b9b104dcfbc2e70e6e3df7362ffb2000  |Sat, 24 Dec 2022 07:49:52 GMT  |\n",
      "|stage/fhv/2019/fhv_tripdata_2019-10.parquet  |18344048   |5b9768b7e4b9a2769473dd8422e798ce  |Sat, 24 Dec 2022 07:49:59 GMT  |\n",
      "------------------------------------------------------------------------------------------------------------------------------\n",
      "\n"
     ]
    }
   ],
   "source": [
    "session.sql('ls @stage/yellow').show()\n",
    "\n",
    "session.sql('ls @stage/green').show()\n",
    "\n",
    "session.sql('ls @stage/fhv').show()"
   ]
  },
  {
   "cell_type": "code",
   "execution_count": null,
   "id": "4f4a9e19-61f4-4d86-a9ad-f2747f7cb2d3",
   "metadata": {},
   "outputs": [],
   "source": [
    "T.StructType([\n",
    "    T.StructField('vendorid', T.IntegerType()),\n",
    "    T.StructField('ratecodeid', T.IntegerType()),\n",
    "    T.StructField('pickup_locationid', T.IntegerType()),\n",
    "    T.StructField('dropoff_locationid', T.IntegerType()),\n",
    "])"
   ]
  },
  {
   "cell_type": "code",
   "execution_count": null,
   "id": "697549a0-f41a-4d39-b008-cec6f0b33108",
   "metadata": {},
   "outputs": [],
   "source": [
    "session.sql('create or replace table public.yellow_tripdata ('\n",
    "            # identifiers\n",
    "            '    $1:vendorid::integer as vendorid,'\n",
    "            '    $1:ratecodeid::integer as ratecodeid,'\n",
    "            '    $1:pulocationid::integer as pickup_locationid,'\n",
    "            '    $1:dolocationid::integer as dropoff_locationid,'\n",
    "            # timestamps\n",
    "            '    $1:tpep_pickup_datetime::timestamp as pickup_datetime,'\n",
    "            '    $1:tpep_dropoff_datetime::timestamp as dropoff_datetime,'\n",
    "            # trip into\n",
    "            '    $1:fare_amount::numeric as fare_amount,'\n",
    "            '    $1:extra::numeric as extra,'\n",
    "            '    $1:mta_tax::numeric as mta_tax,'\n",
    "            '    $1:tip_amount::numeric as tip_amount,'\n",
    "            '    $1:tolls_amount as numeric as tolls_amount,'\n",
    "            '    0 as ehail_fee,'\n",
    "            '    $1:improvement_surcharge::numeric as improvement_surcharge,'\n",
    "            '    $1:total_amount::numeric as total_amount,'\n",
    "            '    $1:payment_type::integer as payment_type,'\n",
    "\n",
    "    -- trip info\n",
    "    store_and_fwd_flag,\n",
    "    cast(passenger_count as integer) as passenger_count,\n",
    "    cast(trip_distance as numeric) as trip_distance,\n",
    "    -- yellow cabs are always street-hail\n",
    "    1 as trip_type,\n",
    "    \n",
    "    -- payment info\n",
    "    cast(fare_amount as numeric) as fare_amount,\n",
    "    cast(extra as numeric) as extra,\n",
    "    cast(mta_tax as numeric) as mta_tax,\n",
    "    cast(tip_amount as numeric) as tip_amount,\n",
    "    cast(tolls_amount as numeric) as tolls_amount,\n",
    "    cast(0 as numeric) as ehail_fee,\n",
    "    cast(improvement_surcharge as numeric) as improvement_surcharge,\n",
    "    cast(total_amount as numeric) as total_amount,\n",
    "    cast(payment_type as integer) as payment_type,\n",
    "    {{ get_payment_type_description('payment_type') }} as payment_type_description, \n",
    "    cast(congestion_surcharge as numeric) as congestion_surcharge"
   ]
  }
 ],
 "metadata": {
  "kernelspec": {
   "display_name": "Python 3 (ipykernel)",
   "language": "python",
   "name": "python3"
  },
  "language_info": {
   "codemirror_mode": {
    "name": "ipython",
    "version": 3
   },
   "file_extension": ".py",
   "mimetype": "text/x-python",
   "name": "python",
   "nbconvert_exporter": "python",
   "pygments_lexer": "ipython3",
   "version": "3.8.15"
  }
 },
 "nbformat": 4,
 "nbformat_minor": 5
}
